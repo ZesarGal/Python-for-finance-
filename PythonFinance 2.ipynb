{
 "cells": [
  {
   "cell_type": "code",
   "execution_count": 1,
   "metadata": {},
   "outputs": [],
   "source": [
    "# Importamos las siguientes librerías.\n",
    "\n",
    "import numpy as np\n",
    "import pandas as pd\n",
    "import matplotlib.pyplot as plt\n",
    "%matplotlib inline\n",
    "import pandas_datareader\n",
    "import datetime"
   ]
  },
  {
   "cell_type": "code",
   "execution_count": 3,
   "metadata": {},
   "outputs": [],
   "source": [
    "import pandas_datareader\n",
    "import datetime\n",
    "import pandas_datareader.data as web"
   ]
  },
  {
   "cell_type": "code",
   "execution_count": 4,
   "metadata": {},
   "outputs": [],
   "source": [
    "# Tomaremos los datos del símbolo de TESLA. Toma una fecha inicial y una fecha final que consista de 5 años de diferencia.\n",
    "# En \"???\" debes de escribir el símbolo de TESLA. \n",
    "\n",
    "start = datetime.datetime(2012, 1, 1)\n",
    "end = datetime.datetime(2017, 1, 1)\n",
    "tesla = web.DataReader(\"TSLA\", 'yahoo', start, end)"
   ]
  },
  {
   "cell_type": "markdown",
   "metadata": {},
   "source": [
    "Contesta lo siguiente:"
   ]
  },
  {
   "cell_type": "markdown",
   "metadata": {},
   "source": [
    "1. Muestra los primeros 10 elementos de la tabla.\n",
    "2. Muestra la serie que representa los precios de apertura de las acciones.\n",
    "3. **El cambio de porcentaje diario** está dado por la fórmula:\n",
    "$$r_{t}=\\frac{p_{t}}{p_{t-1}}-1$$\n",
    "en donde $p_{t}$ es el precio (de cierre) al tiempo $t$. En Python, el método `.shift(1)` regresa $p_{t-1}$. Muestra los primeros 5 elementos de la tabla agregando los precios $r_{t}$.\n",
    "4. Muestra el histograma de la columna $r_{t}$."
   ]
  },
  {
   "cell_type": "code",
   "execution_count": 5,
   "metadata": {},
   "outputs": [
    {
     "data": {
      "text/html": [
       "<div>\n",
       "<style scoped>\n",
       "    .dataframe tbody tr th:only-of-type {\n",
       "        vertical-align: middle;\n",
       "    }\n",
       "\n",
       "    .dataframe tbody tr th {\n",
       "        vertical-align: top;\n",
       "    }\n",
       "\n",
       "    .dataframe thead th {\n",
       "        text-align: right;\n",
       "    }\n",
       "</style>\n",
       "<table border=\"1\" class=\"dataframe\">\n",
       "  <thead>\n",
       "    <tr style=\"text-align: right;\">\n",
       "      <th></th>\n",
       "      <th>High</th>\n",
       "      <th>Low</th>\n",
       "      <th>Open</th>\n",
       "      <th>Close</th>\n",
       "      <th>Volume</th>\n",
       "      <th>Adj Close</th>\n",
       "    </tr>\n",
       "    <tr>\n",
       "      <th>Date</th>\n",
       "      <th></th>\n",
       "      <th></th>\n",
       "      <th></th>\n",
       "      <th></th>\n",
       "      <th></th>\n",
       "      <th></th>\n",
       "    </tr>\n",
       "  </thead>\n",
       "  <tbody>\n",
       "    <tr>\n",
       "      <th>2012-01-03</th>\n",
       "      <td>5.900</td>\n",
       "      <td>5.530</td>\n",
       "      <td>5.788</td>\n",
       "      <td>5.616</td>\n",
       "      <td>4640500</td>\n",
       "      <td>5.616</td>\n",
       "    </tr>\n",
       "    <tr>\n",
       "      <th>2012-01-04</th>\n",
       "      <td>5.734</td>\n",
       "      <td>5.500</td>\n",
       "      <td>5.642</td>\n",
       "      <td>5.542</td>\n",
       "      <td>3150500</td>\n",
       "      <td>5.542</td>\n",
       "    </tr>\n",
       "    <tr>\n",
       "      <th>2012-01-05</th>\n",
       "      <td>5.586</td>\n",
       "      <td>5.370</td>\n",
       "      <td>5.552</td>\n",
       "      <td>5.424</td>\n",
       "      <td>5027500</td>\n",
       "      <td>5.424</td>\n",
       "    </tr>\n",
       "    <tr>\n",
       "      <th>2012-01-06</th>\n",
       "      <td>5.558</td>\n",
       "      <td>5.282</td>\n",
       "      <td>5.440</td>\n",
       "      <td>5.382</td>\n",
       "      <td>4931500</td>\n",
       "      <td>5.382</td>\n",
       "    </tr>\n",
       "    <tr>\n",
       "      <th>2012-01-09</th>\n",
       "      <td>5.498</td>\n",
       "      <td>5.224</td>\n",
       "      <td>5.400</td>\n",
       "      <td>5.450</td>\n",
       "      <td>4485000</td>\n",
       "      <td>5.450</td>\n",
       "    </tr>\n",
       "    <tr>\n",
       "      <th>2012-01-10</th>\n",
       "      <td>5.552</td>\n",
       "      <td>5.450</td>\n",
       "      <td>5.488</td>\n",
       "      <td>5.524</td>\n",
       "      <td>3359000</td>\n",
       "      <td>5.524</td>\n",
       "    </tr>\n",
       "    <tr>\n",
       "      <th>2012-01-11</th>\n",
       "      <td>5.676</td>\n",
       "      <td>5.460</td>\n",
       "      <td>5.524</td>\n",
       "      <td>5.646</td>\n",
       "      <td>3361500</td>\n",
       "      <td>5.646</td>\n",
       "    </tr>\n",
       "    <tr>\n",
       "      <th>2012-01-12</th>\n",
       "      <td>5.724</td>\n",
       "      <td>5.562</td>\n",
       "      <td>5.696</td>\n",
       "      <td>5.650</td>\n",
       "      <td>3646500</td>\n",
       "      <td>5.650</td>\n",
       "    </tr>\n",
       "    <tr>\n",
       "      <th>2012-01-13</th>\n",
       "      <td>5.700</td>\n",
       "      <td>4.528</td>\n",
       "      <td>5.680</td>\n",
       "      <td>4.558</td>\n",
       "      <td>27502000</td>\n",
       "      <td>4.558</td>\n",
       "    </tr>\n",
       "    <tr>\n",
       "      <th>2012-01-17</th>\n",
       "      <td>5.468</td>\n",
       "      <td>5.282</td>\n",
       "      <td>5.324</td>\n",
       "      <td>5.320</td>\n",
       "      <td>23258000</td>\n",
       "      <td>5.320</td>\n",
       "    </tr>\n",
       "  </tbody>\n",
       "</table>\n",
       "</div>"
      ],
      "text/plain": [
       "             High    Low   Open  Close    Volume  Adj Close\n",
       "Date                                                       \n",
       "2012-01-03  5.900  5.530  5.788  5.616   4640500      5.616\n",
       "2012-01-04  5.734  5.500  5.642  5.542   3150500      5.542\n",
       "2012-01-05  5.586  5.370  5.552  5.424   5027500      5.424\n",
       "2012-01-06  5.558  5.282  5.440  5.382   4931500      5.382\n",
       "2012-01-09  5.498  5.224  5.400  5.450   4485000      5.450\n",
       "2012-01-10  5.552  5.450  5.488  5.524   3359000      5.524\n",
       "2012-01-11  5.676  5.460  5.524  5.646   3361500      5.646\n",
       "2012-01-12  5.724  5.562  5.696  5.650   3646500      5.650\n",
       "2012-01-13  5.700  4.528  5.680  4.558  27502000      4.558\n",
       "2012-01-17  5.468  5.282  5.324  5.320  23258000      5.320"
      ]
     },
     "execution_count": 5,
     "metadata": {},
     "output_type": "execute_result"
    }
   ],
   "source": [
    "# 1. Muestra los primeros 10 elementos de la tabla.\n",
    "tesla.head(10)"
   ]
  },
  {
   "cell_type": "code",
   "execution_count": 7,
   "metadata": {},
   "outputs": [
    {
     "data": {
      "text/plain": [
       "<matplotlib.legend.Legend at 0x7fb519f16fd0>"
      ]
     },
     "execution_count": 7,
     "metadata": {},
     "output_type": "execute_result"
    },
    {
     "data": {
      "image/png": "[encoded data removed]",
      "text/plain": [
       "<Figure size 1224x504 with 1 Axes>"
      ]
     },
     "metadata": {
      "needs_background": "light"
     },
     "output_type": "display_data"
    }
   ],
   "source": [
    "# 2. Muestra la serie que representa los precios de apertura de las acciones.\n",
    "tesla['Open'].plot(label='Tesla',figsize=(17,7),title='Precios de Apertura')\n",
    "plt.legend()"
   ]
  },
  {
   "cell_type": "code",
   "execution_count": 8,
   "metadata": {},
   "outputs": [],
   "source": [
    "# 3. El cambio de porcentaje diario** está dado por la fórmula:\n",
    "#    $$r_{t}=\\frac{p_{t}}{p_{t-1}}-1$$\n",
    "#    en donde $p_{t}$ es el precio (de cierre) al tiempo $t$. \n",
    "#    En Python, el método `.shift(1)` regresa $p_{t-1}$. \n",
    "#    Muestra los primeros 5 elementos de la tabla agregando los precios $r_{t}$.\n",
    "\n",
    "tesla['Returns'] = (tesla['Close'] / tesla['Close'].shift(1) ) - 1"
   ]
  },
  {
   "cell_type": "code",
   "execution_count": 9,
   "metadata": {},
   "outputs": [
    {
     "data": {
      "text/html": [
       "<div>\n",
       "<style scoped>\n",
       "    .dataframe tbody tr th:only-of-type {\n",
       "        vertical-align: middle;\n",
       "    }\n",
       "\n",
       "    .dataframe tbody tr th {\n",
       "        vertical-align: top;\n",
       "    }\n",
       "\n",
       "    .dataframe thead th {\n",
       "        text-align: right;\n",
       "    }\n",
       "</style>\n",
       "<table border=\"1\" class=\"dataframe\">\n",
       "  <thead>\n",
       "    <tr style=\"text-align: right;\">\n",
       "      <th></th>\n",
       "      <th>High</th>\n",
       "      <th>Low</th>\n",
       "      <th>Open</th>\n",
       "      <th>Close</th>\n",
       "      <th>Volume</th>\n",
       "      <th>Adj Close</th>\n",
       "      <th>Returns</th>\n",
       "    </tr>\n",
       "    <tr>\n",
       "      <th>Date</th>\n",
       "      <th></th>\n",
       "      <th></th>\n",
       "      <th></th>\n",
       "      <th></th>\n",
       "      <th></th>\n",
       "      <th></th>\n",
       "      <th></th>\n",
       "    </tr>\n",
       "  </thead>\n",
       "  <tbody>\n",
       "    <tr>\n",
       "      <th>2012-01-03</th>\n",
       "      <td>5.900</td>\n",
       "      <td>5.530</td>\n",
       "      <td>5.788</td>\n",
       "      <td>5.616</td>\n",
       "      <td>4640500</td>\n",
       "      <td>5.616</td>\n",
       "      <td>NaN</td>\n",
       "    </tr>\n",
       "    <tr>\n",
       "      <th>2012-01-04</th>\n",
       "      <td>5.734</td>\n",
       "      <td>5.500</td>\n",
       "      <td>5.642</td>\n",
       "      <td>5.542</td>\n",
       "      <td>3150500</td>\n",
       "      <td>5.542</td>\n",
       "      <td>-0.013177</td>\n",
       "    </tr>\n",
       "    <tr>\n",
       "      <th>2012-01-05</th>\n",
       "      <td>5.586</td>\n",
       "      <td>5.370</td>\n",
       "      <td>5.552</td>\n",
       "      <td>5.424</td>\n",
       "      <td>5027500</td>\n",
       "      <td>5.424</td>\n",
       "      <td>-0.021292</td>\n",
       "    </tr>\n",
       "    <tr>\n",
       "      <th>2012-01-06</th>\n",
       "      <td>5.558</td>\n",
       "      <td>5.282</td>\n",
       "      <td>5.440</td>\n",
       "      <td>5.382</td>\n",
       "      <td>4931500</td>\n",
       "      <td>5.382</td>\n",
       "      <td>-0.007743</td>\n",
       "    </tr>\n",
       "    <tr>\n",
       "      <th>2012-01-09</th>\n",
       "      <td>5.498</td>\n",
       "      <td>5.224</td>\n",
       "      <td>5.400</td>\n",
       "      <td>5.450</td>\n",
       "      <td>4485000</td>\n",
       "      <td>5.450</td>\n",
       "      <td>0.012635</td>\n",
       "    </tr>\n",
       "  </tbody>\n",
       "</table>\n",
       "</div>"
      ],
      "text/plain": [
       "             High    Low   Open  Close   Volume  Adj Close   Returns\n",
       "Date                                                                \n",
       "2012-01-03  5.900  5.530  5.788  5.616  4640500      5.616       NaN\n",
       "2012-01-04  5.734  5.500  5.642  5.542  3150500      5.542 -0.013177\n",
       "2012-01-05  5.586  5.370  5.552  5.424  5027500      5.424 -0.021292\n",
       "2012-01-06  5.558  5.282  5.440  5.382  4931500      5.382 -0.007743\n",
       "2012-01-09  5.498  5.224  5.400  5.450  4485000      5.450  0.012635"
      ]
     },
     "execution_count": 9,
     "metadata": {},
     "output_type": "execute_result"
    }
   ],
   "source": [
    "tesla.head()"
   ]
  },
  {
   "cell_type": "code",
   "execution_count": 12,
   "metadata": {},
   "outputs": [
    {
     "data": {
      "text/plain": [
       "<matplotlib.axes._subplots.AxesSubplot at 0x7fb51a4fa190>"
      ]
     },
     "execution_count": 12,
     "metadata": {},
     "output_type": "execute_result"
    },
    {
     "data": {
      "image/png": "[encoded data removed]",
      "text/plain": [
       "<Figure size 432x288 with 1 Axes>"
      ]
     },
     "metadata": {
      "needs_background": "light"
     },
     "output_type": "display_data"
    }
   ],
   "source": [
    "tesla['Returns'].hist(bins=30)"
   ]
  },
  {
   "cell_type": "code",
   "execution_count": null,
   "metadata": {},
   "outputs": [],
   "source": []
  }
 ],
 "metadata": {
  "kernelspec": {
   "display_name": "Python 3",
   "language": "python",
   "name": "python3"
  },
  "language_info": {
   "codemirror_mode": {
    "name": "ipython",
    "version": 3
   },
   "file_extension": ".py",
   "mimetype": "text/x-python",
   "name": "python",
   "nbconvert_exporter": "python",
   "pygments_lexer": "ipython3",
   "version": "3.7.6"
  }
 },
 "nbformat": 4,
 "nbformat_minor": 4
}
